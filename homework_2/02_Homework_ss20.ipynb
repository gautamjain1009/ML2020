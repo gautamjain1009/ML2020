{
 "cells": [
  {
   "cell_type": "markdown",
   "metadata": {},
   "source": [
    "**Protyush Kumar Das (pdas2s)**<br>\n",
    "**Somesh Devagekar (sdevag2s)**"
   ]
  },
  {
   "cell_type": "markdown",
   "metadata": {},
   "source": [
    "# Build a spam classifier using Naive Bayes"
   ]
  },
  {
   "cell_type": "markdown",
   "metadata": {},
   "source": [
    "## Project Description: \n",
    "- There are three datasets for training: TrainDataset1.csv, TrainDataset2.csv and TrainDataset3.txt. Each dataset contains short messages with the labels (ham or spam). \n",
    "- Analyse, clean and visualise these datasets.\n",
    "- Combine them into one big data set for the training\n",
    "- Use this dataset in order to build your own Naive Bayes classifier. (You can either use existing Naive Bayes from sklearn or build your own one)\n",
    "- Verify your Classifier using new messages (create your own messages or use the messages from the TestDataset.csv dataset).\n",
    "\n",
    "## Project Duration: 2 weeks\n",
    "## Project Deliverables:\n",
    "1. End of the first week do Data preprocessing: \n",
    "    - Load the dataset using pandas, \n",
    "    - Analysis it for this you will need to process the text, namely remove punctuation and stopwords, and then create a list of clean text words. (Research how to do this) \n",
    "    - Visualise the results\n",
    "    - Prepare the pre-processed data for the usage by Naive Bayes Classifier\n",
    "2. End of the second week:\n",
    "    - Train the classifier,\n",
    "    - Validate it, build confusion matrix, analyse its results\n",
    "    - Apply it to new test messages,\n",
    "    - Try to cheat the classifier by adding \"good words\" to the end of test message."
   ]
  },
  {
   "cell_type": "markdown",
   "metadata": {},
   "source": [
    "You can use the following link can be used as guidance for implementation:\n",
    "https://towardsdatascience.com/spam-filtering-using-naive-bayes-98a341224038"
   ]
  },
  {
   "cell_type": "markdown",
   "metadata": {},
   "source": [
    "**Conversion of TrainDataset3.txt to TrainDataset3.csv**"
   ]
  },
  {
   "cell_type": "code",
   "execution_count": 1,
   "metadata": {},
   "outputs": [],
   "source": [
    "import csv\n",
    "with open('TrainDataset3.txt', 'r') as in_file:\n",
    "    stripped = (line.strip() for line in in_file)\n",
    "    lines = (line.split(\"\t\") for line in stripped if line)\n",
    "    with open('log.csv', 'w') as out_file:\n",
    "        writer = csv.writer(out_file)\n",
    "        writer.writerow(('type', 'text'))\n",
    "        writer.writerows(lines)"
   ]
  },
  {
   "cell_type": "markdown",
   "metadata": {},
   "source": [
    "**Loading the data and concatenating into one**"
   ]
  },
  {
   "cell_type": "code",
   "execution_count": 39,
   "metadata": {},
   "outputs": [
    {
     "name": "stdout",
     "output_type": "stream",
     "text": [
      "0.25.1\n",
      "<class 'pandas.core.frame.DataFrame'>\n",
      "Int64Index: 15590 entries, 0 to 5558\n",
      "Data columns (total 2 columns):\n",
      "type    15590 non-null object\n",
      "text    15590 non-null object\n",
      "dtypes: object(2)\n",
      "memory usage: 365.4+ KB\n",
      "None\n"
     ]
    },
    {
     "data": {
      "text/html": [
       "<div>\n",
       "<style scoped>\n",
       "    .dataframe tbody tr th:only-of-type {\n",
       "        vertical-align: middle;\n",
       "    }\n",
       "\n",
       "    .dataframe tbody tr th {\n",
       "        vertical-align: top;\n",
       "    }\n",
       "\n",
       "    .dataframe thead th {\n",
       "        text-align: right;\n",
       "    }\n",
       "</style>\n",
       "<table border=\"1\" class=\"dataframe\">\n",
       "  <thead>\n",
       "    <tr style=\"text-align: right;\">\n",
       "      <th></th>\n",
       "      <th>type</th>\n",
       "      <th>text</th>\n",
       "    </tr>\n",
       "  </thead>\n",
       "  <tbody>\n",
       "    <tr>\n",
       "      <td>0</td>\n",
       "      <td>ham</td>\n",
       "      <td>Go until jurong point, crazy.. Available only ...</td>\n",
       "    </tr>\n",
       "    <tr>\n",
       "      <td>1</td>\n",
       "      <td>ham</td>\n",
       "      <td>Ok lar... Joking wif u oni...</td>\n",
       "    </tr>\n",
       "    <tr>\n",
       "      <td>2</td>\n",
       "      <td>spam</td>\n",
       "      <td>Free entry in 2 a wkly comp to win FA Cup fina...</td>\n",
       "    </tr>\n",
       "    <tr>\n",
       "      <td>3</td>\n",
       "      <td>ham</td>\n",
       "      <td>U dun say so early hor... U c already then say...</td>\n",
       "    </tr>\n",
       "    <tr>\n",
       "      <td>4</td>\n",
       "      <td>ham</td>\n",
       "      <td>Nah I don't think he goes to usf, he lives aro...</td>\n",
       "    </tr>\n",
       "  </tbody>\n",
       "</table>\n",
       "</div>"
      ],
      "text/plain": [
       "   type                                               text\n",
       "0   ham  Go until jurong point, crazy.. Available only ...\n",
       "1   ham                      Ok lar... Joking wif u oni...\n",
       "2  spam  Free entry in 2 a wkly comp to win FA Cup fina...\n",
       "3   ham  U dun say so early hor... U c already then say...\n",
       "4   ham  Nah I don't think he goes to usf, he lives aro..."
      ]
     },
     "execution_count": 39,
     "metadata": {},
     "output_type": "execute_result"
    }
   ],
   "source": [
    "import pandas as pd\n",
    "import numpy as np\n",
    "print(pd.__version__)\n",
    "\n",
    "D_1=pd.read_csv('TrainDataset1.csv')\n",
    "D_2=pd.read_csv('TrainDataset2.csv')\n",
    "D_2.rename(columns={'v1': 'type', 'v2': 'text'}, inplace=True)\n",
    "D_3=pd.read_csv('TrainDataset3.txt', sep=r\"\\t+\", header=None ,engine=\"python\")\n",
    "D_3=D_3.rename(columns={0: \"type\", 1: \"text\"}, errors=\"raise\")\n",
    "\n",
    "TrainDataset=pd.concat([D_3,D_2,D_1])\n",
    "print(TrainDataset.info())\n",
    "TrainDataset.head()"
   ]
  },
  {
   "cell_type": "code",
   "execution_count": null,
   "metadata": {},
   "outputs": [],
   "source": [
    "\n"
   ]
  },
  {
   "cell_type": "code",
   "execution_count": null,
   "metadata": {},
   "outputs": [],
   "source": []
  }
 ],
 "metadata": {
  "kernelspec": {
   "display_name": "Python 3",
   "language": "python",
   "name": "python3"
  }
 },
 "nbformat": 4,
 "nbformat_minor": 2
}
